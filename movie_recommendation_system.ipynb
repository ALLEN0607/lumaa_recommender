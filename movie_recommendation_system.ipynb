{
  "nbformat": 4,
  "nbformat_minor": 0,
  "metadata": {
    "colab": {
      "provenance": [],
      "authorship_tag": "ABX9TyPsOzeddXKW0U0lGde7e/wW",
      "include_colab_link": true
    },
    "kernelspec": {
      "name": "python3",
      "display_name": "Python 3"
    },
    "language_info": {
      "name": "python"
    }
  },
  "cells": [
    {
      "cell_type": "markdown",
      "metadata": {
        "id": "view-in-github",
        "colab_type": "text"
      },
      "source": [
        "<a href=\"https://colab.research.google.com/github/ALLEN0607/lumaa_recommender/blob/main/movie_recommendation_system.ipynb\" target=\"_parent\"><img src=\"https://colab.research.google.com/assets/colab-badge.svg\" alt=\"Open In Colab\"/></a>"
      ]
    },
    {
      "cell_type": "code",
      "execution_count": null,
      "metadata": {
        "colab": {
          "base_uri": "https://localhost:8080/"
        },
        "id": "Rf47lqHxwEvh",
        "outputId": "2b92b4ec-d317-4d6d-cd09-0bf95ee8e051"
      },
      "outputs": [
        {
          "output_type": "stream",
          "name": "stdout",
          "text": [
            "pandas 2.2.2\n",
            "numpy 1.26.4\n",
            "sklearn 1.6.1\n"
          ]
        }
      ],
      "source": [
        "import pandas as pd\n",
        "import numpy as np\n",
        "import sklearn\n",
        "\n",
        "print(\"pandas\", pd.__version__)\n",
        "print(\"numpy\", np.__version__)\n",
        "print(\"sklearn\", sklearn.__version__)"
      ]
    },
    {
      "cell_type": "code",
      "source": [
        "from google.colab import drive\n",
        "drive.mount(\"/content/drive\")"
      ],
      "metadata": {
        "colab": {
          "base_uri": "https://localhost:8080/"
        },
        "id": "MdIt0TDbxjPv",
        "outputId": "32bb9336-45cd-497f-d102-ec23931261de"
      },
      "execution_count": null,
      "outputs": [
        {
          "output_type": "stream",
          "name": "stdout",
          "text": [
            "Mounted at /content/drive\n"
          ]
        }
      ]
    },
    {
      "cell_type": "code",
      "source": [
        "# Full Dataset\n",
        "df_movies = pd.read_csv(\"data/tmdb_5000_movies.csv\")\n",
        "# Small Dataset\n",
        "#df_movies = df_movies.sample(n=500, random_state=42).reset_index(drop=True)\n",
        "\n",
        "df_movies.info()\n",
        "\n",
        "print(df_movies.head(n=10))\n",
        "print(df_movies.shape)"
      ],
      "metadata": {
        "colab": {
          "base_uri": "https://localhost:8080/"
        },
        "id": "yKd208TqQAuB",
        "outputId": "1264cbd5-8afa-4415-d54d-9f0d0ea9ba3a"
      },
      "execution_count": null,
      "outputs": [
        {
          "output_type": "stream",
          "name": "stdout",
          "text": [
            "<class 'pandas.core.frame.DataFrame'>\n",
            "RangeIndex: 4803 entries, 0 to 4802\n",
            "Data columns (total 20 columns):\n",
            " #   Column                Non-Null Count  Dtype  \n",
            "---  ------                --------------  -----  \n",
            " 0   budget                4803 non-null   int64  \n",
            " 1   genres                4803 non-null   object \n",
            " 2   homepage              1712 non-null   object \n",
            " 3   id                    4803 non-null   int64  \n",
            " 4   keywords              4803 non-null   object \n",
            " 5   original_language     4803 non-null   object \n",
            " 6   original_title        4803 non-null   object \n",
            " 7   overview              4800 non-null   object \n",
            " 8   popularity            4803 non-null   float64\n",
            " 9   production_companies  4803 non-null   object \n",
            " 10  production_countries  4803 non-null   object \n",
            " 11  release_date          4802 non-null   object \n",
            " 12  revenue               4803 non-null   int64  \n",
            " 13  runtime               4801 non-null   float64\n",
            " 14  spoken_languages      4803 non-null   object \n",
            " 15  status                4803 non-null   object \n",
            " 16  tagline               3959 non-null   object \n",
            " 17  title                 4803 non-null   object \n",
            " 18  vote_average          4803 non-null   float64\n",
            " 19  vote_count            4803 non-null   int64  \n",
            "dtypes: float64(3), int64(4), object(13)\n",
            "memory usage: 750.6+ KB\n",
            "      budget                                             genres  \\\n",
            "0  237000000  [{\"id\": 28, \"name\": \"Action\"}, {\"id\": 12, \"nam...   \n",
            "1  300000000  [{\"id\": 12, \"name\": \"Adventure\"}, {\"id\": 14, \"...   \n",
            "2  245000000  [{\"id\": 28, \"name\": \"Action\"}, {\"id\": 12, \"nam...   \n",
            "3  250000000  [{\"id\": 28, \"name\": \"Action\"}, {\"id\": 80, \"nam...   \n",
            "4  260000000  [{\"id\": 28, \"name\": \"Action\"}, {\"id\": 12, \"nam...   \n",
            "5  258000000  [{\"id\": 14, \"name\": \"Fantasy\"}, {\"id\": 28, \"na...   \n",
            "6  260000000  [{\"id\": 16, \"name\": \"Animation\"}, {\"id\": 10751...   \n",
            "7  280000000  [{\"id\": 28, \"name\": \"Action\"}, {\"id\": 12, \"nam...   \n",
            "8  250000000  [{\"id\": 12, \"name\": \"Adventure\"}, {\"id\": 14, \"...   \n",
            "9  250000000  [{\"id\": 28, \"name\": \"Action\"}, {\"id\": 12, \"nam...   \n",
            "\n",
            "                                            homepage      id  \\\n",
            "0                        http://www.avatarmovie.com/   19995   \n",
            "1       http://disney.go.com/disneypictures/pirates/     285   \n",
            "2        http://www.sonypictures.com/movies/spectre/  206647   \n",
            "3                 http://www.thedarkknightrises.com/   49026   \n",
            "4               http://movies.disney.com/john-carter   49529   \n",
            "5    http://www.sonypictures.com/movies/spider-man3/     559   \n",
            "6       http://disney.go.com/disneypictures/tangled/   38757   \n",
            "7  http://marvel.com/movies/movie/193/avengers_ag...   99861   \n",
            "8  http://harrypotter.warnerbros.com/harrypottera...     767   \n",
            "9       http://www.batmanvsupermandawnofjustice.com/  209112   \n",
            "\n",
            "                                            keywords original_language  \\\n",
            "0  [{\"id\": 1463, \"name\": \"culture clash\"}, {\"id\":...                en   \n",
            "1  [{\"id\": 270, \"name\": \"ocean\"}, {\"id\": 726, \"na...                en   \n",
            "2  [{\"id\": 470, \"name\": \"spy\"}, {\"id\": 818, \"name...                en   \n",
            "3  [{\"id\": 849, \"name\": \"dc comics\"}, {\"id\": 853,...                en   \n",
            "4  [{\"id\": 818, \"name\": \"based on novel\"}, {\"id\":...                en   \n",
            "5  [{\"id\": 851, \"name\": \"dual identity\"}, {\"id\": ...                en   \n",
            "6  [{\"id\": 1562, \"name\": \"hostage\"}, {\"id\": 2343,...                en   \n",
            "7  [{\"id\": 8828, \"name\": \"marvel comic\"}, {\"id\": ...                en   \n",
            "8  [{\"id\": 616, \"name\": \"witch\"}, {\"id\": 2343, \"n...                en   \n",
            "9  [{\"id\": 849, \"name\": \"dc comics\"}, {\"id\": 7002...                en   \n",
            "\n",
            "                             original_title  \\\n",
            "0                                    Avatar   \n",
            "1  Pirates of the Caribbean: At World's End   \n",
            "2                                   Spectre   \n",
            "3                     The Dark Knight Rises   \n",
            "4                               John Carter   \n",
            "5                              Spider-Man 3   \n",
            "6                                   Tangled   \n",
            "7                   Avengers: Age of Ultron   \n",
            "8    Harry Potter and the Half-Blood Prince   \n",
            "9        Batman v Superman: Dawn of Justice   \n",
            "\n",
            "                                            overview  popularity  \\\n",
            "0  In the 22nd century, a paraplegic Marine is di...  150.437577   \n",
            "1  Captain Barbossa, long believed to be dead, ha...  139.082615   \n",
            "2  A cryptic message from Bond’s past sends him o...  107.376788   \n",
            "3  Following the death of District Attorney Harve...  112.312950   \n",
            "4  John Carter is a war-weary, former military ca...   43.926995   \n",
            "5  The seemingly invincible Spider-Man goes up ag...  115.699814   \n",
            "6  When the kingdom's most wanted-and most charmi...   48.681969   \n",
            "7  When Tony Stark tries to jumpstart a dormant p...  134.279229   \n",
            "8  As Harry begins his sixth year at Hogwarts, he...   98.885637   \n",
            "9  Fearing the actions of a god-like Super Hero l...  155.790452   \n",
            "\n",
            "                                production_companies  \\\n",
            "0  [{\"name\": \"Ingenious Film Partners\", \"id\": 289...   \n",
            "1  [{\"name\": \"Walt Disney Pictures\", \"id\": 2}, {\"...   \n",
            "2  [{\"name\": \"Columbia Pictures\", \"id\": 5}, {\"nam...   \n",
            "3  [{\"name\": \"Legendary Pictures\", \"id\": 923}, {\"...   \n",
            "4        [{\"name\": \"Walt Disney Pictures\", \"id\": 2}]   \n",
            "5  [{\"name\": \"Columbia Pictures\", \"id\": 5}, {\"nam...   \n",
            "6  [{\"name\": \"Walt Disney Pictures\", \"id\": 2}, {\"...   \n",
            "7  [{\"name\": \"Marvel Studios\", \"id\": 420}, {\"name...   \n",
            "8  [{\"name\": \"Warner Bros.\", \"id\": 6194}, {\"name\"...   \n",
            "9  [{\"name\": \"DC Comics\", \"id\": 429}, {\"name\": \"A...   \n",
            "\n",
            "                                production_countries release_date     revenue  \\\n",
            "0  [{\"iso_3166_1\": \"US\", \"name\": \"United States o...   2009-12-10  2787965087   \n",
            "1  [{\"iso_3166_1\": \"US\", \"name\": \"United States o...   2007-05-19   961000000   \n",
            "2  [{\"iso_3166_1\": \"GB\", \"name\": \"United Kingdom\"...   2015-10-26   880674609   \n",
            "3  [{\"iso_3166_1\": \"US\", \"name\": \"United States o...   2012-07-16  1084939099   \n",
            "4  [{\"iso_3166_1\": \"US\", \"name\": \"United States o...   2012-03-07   284139100   \n",
            "5  [{\"iso_3166_1\": \"US\", \"name\": \"United States o...   2007-05-01   890871626   \n",
            "6  [{\"iso_3166_1\": \"US\", \"name\": \"United States o...   2010-11-24   591794936   \n",
            "7  [{\"iso_3166_1\": \"US\", \"name\": \"United States o...   2015-04-22  1405403694   \n",
            "8  [{\"iso_3166_1\": \"GB\", \"name\": \"United Kingdom\"...   2009-07-07   933959197   \n",
            "9  [{\"iso_3166_1\": \"US\", \"name\": \"United States o...   2016-03-23   873260194   \n",
            "\n",
            "   runtime                                   spoken_languages    status  \\\n",
            "0    162.0  [{\"iso_639_1\": \"en\", \"name\": \"English\"}, {\"iso...  Released   \n",
            "1    169.0           [{\"iso_639_1\": \"en\", \"name\": \"English\"}]  Released   \n",
            "2    148.0  [{\"iso_639_1\": \"fr\", \"name\": \"Fran\\u00e7ais\"},...  Released   \n",
            "3    165.0           [{\"iso_639_1\": \"en\", \"name\": \"English\"}]  Released   \n",
            "4    132.0           [{\"iso_639_1\": \"en\", \"name\": \"English\"}]  Released   \n",
            "5    139.0  [{\"iso_639_1\": \"en\", \"name\": \"English\"}, {\"iso...  Released   \n",
            "6    100.0           [{\"iso_639_1\": \"en\", \"name\": \"English\"}]  Released   \n",
            "7    141.0           [{\"iso_639_1\": \"en\", \"name\": \"English\"}]  Released   \n",
            "8    153.0           [{\"iso_639_1\": \"en\", \"name\": \"English\"}]  Released   \n",
            "9    151.0           [{\"iso_639_1\": \"en\", \"name\": \"English\"}]  Released   \n",
            "\n",
            "                                          tagline  \\\n",
            "0                     Enter the World of Pandora.   \n",
            "1  At the end of the world, the adventure begins.   \n",
            "2                           A Plan No One Escapes   \n",
            "3                                 The Legend Ends   \n",
            "4            Lost in our world, found in another.   \n",
            "5                              The battle within.   \n",
            "6        They're taking adventure to new lengths.   \n",
            "7                             A New Age Has Come.   \n",
            "8                           Dark Secrets Revealed   \n",
            "9                              Justice or revenge   \n",
            "\n",
            "                                      title  vote_average  vote_count  \n",
            "0                                    Avatar           7.2       11800  \n",
            "1  Pirates of the Caribbean: At World's End           6.9        4500  \n",
            "2                                   Spectre           6.3        4466  \n",
            "3                     The Dark Knight Rises           7.6        9106  \n",
            "4                               John Carter           6.1        2124  \n",
            "5                              Spider-Man 3           5.9        3576  \n",
            "6                                   Tangled           7.4        3330  \n",
            "7                   Avengers: Age of Ultron           7.3        6767  \n",
            "8    Harry Potter and the Half-Blood Prince           7.4        5293  \n",
            "9        Batman v Superman: Dawn of Justice           5.7        7004  \n",
            "(4803, 20)\n"
          ]
        }
      ]
    },
    {
      "cell_type": "code",
      "source": [
        "import ast\n",
        "\n",
        "# 解析并拼接 genres, keywords\n",
        "def parse_json_column(json_str):\n",
        "  try:\n",
        "    data_list = ast.literal_eval(json_str)   # string -> python object(list or dict)\n",
        "    names = [d['name'] for d in data_list]\n",
        "    return \" \".join(names)\n",
        "  except:\n",
        "    return \"\"\n",
        "\n",
        "# 给 df_movies 增加解析列\n",
        "df_movies[\"parsed_genres\"] = df_movies[\"genres\"].apply(parse_json_column)\n",
        "df_movies[\"parsed_keywords\"] = df_movies[\"keywords\"].apply(parse_json_column)\n",
        "\n",
        "# combine overview, genres, keywords\n",
        "df_movies[\"combined\"] = (\n",
        "    df_movies[\"overview\"].fillna(\"\") + \" \" +\n",
        "    df_movies[\"parsed_genres\"].fillna(\"\") + \" \" +\n",
        "    df_movies[\"parsed_keywords\"].fillna(\"\")\n",
        ")\n",
        "\n",
        "print(df_movies[\"combined\"])"
      ],
      "metadata": {
        "colab": {
          "base_uri": "https://localhost:8080/"
        },
        "id": "LPxXFCzBX_Qu",
        "outputId": "52588d77-d3f9-4227-e68a-0c0a5eafe694"
      },
      "execution_count": null,
      "outputs": [
        {
          "output_type": "stream",
          "name": "stdout",
          "text": [
            "0      When the Switchblade, the most sophisticated p...\n",
            "1      In a futuristic London, the rising sea levels ...\n",
            "2      On a beautiful college campus, something ugly ...\n",
            "3      Two girlfriends on a summer holiday in Spain b...\n",
            "4      As Harry begins his sixth year at Hogwarts, he...\n",
            "                             ...                        \n",
            "495    The Big Apple's in big trouble, as indestructi...\n",
            "496    Dr. John Dolittle the beloved doctor is back, ...\n",
            "497    Orson Welles, as judge Rauch, holds a lengthy ...\n",
            "498    Everyone deserves a chance to follow their dre...\n",
            "499    An amphibious shark-like monster terrorizes an...\n",
            "Name: combined, Length: 500, dtype: object\n"
          ]
        }
      ]
    },
    {
      "cell_type": "code",
      "source": [
        "from sklearn.feature_extraction.text import TfidfVectorizer\n",
        "\n",
        "# stop_words(the, is, and, ...)\n",
        "vectorizer = TfidfVectorizer(stop_words='english')\n",
        "# 对 combined 列做向量化\n",
        "tfidf_matrix = vectorizer.fit_transform(df_movies[\"combined\"])\n",
        "\n",
        "# Print tfidf_martix shape (num_movies, num_features)\n",
        "print(\"TF-IDF matrix shape: \", tfidf_matrix.shape)\n"
      ],
      "metadata": {
        "colab": {
          "base_uri": "https://localhost:8080/"
        },
        "id": "95guH5AV6OMH",
        "outputId": "2ab9cd96-507d-4fa6-ac38-64b607745b4a"
      },
      "execution_count": null,
      "outputs": [
        {
          "output_type": "stream",
          "name": "stdout",
          "text": [
            "TF-IDF matrix shape:  (500, 7014)\n"
          ]
        }
      ]
    },
    {
      "cell_type": "code",
      "source": [
        "from sklearn.metrics.pairwise import cosine_similarity\n",
        "\n",
        "# 推荐电影\n",
        "def recommend_movies(user_input, df, vectorizer, tfidf_matrix, top_n=5):\n",
        "  # 将user_input转成TF-IDE向量\n",
        "  user_vec = vectorizer.transform([user_input])\n",
        "\n",
        "  similarity_scores = cosine_similarity(user_vec, tfidf_matrix)\n",
        "\n",
        "  scores = similarity_scores.flatten()\n",
        "\n",
        "  top_indices = scores.argsort()[::-1][:top_n]\n",
        "\n",
        "  res = []\n",
        "  for idx in top_indices:\n",
        "    movie_title = df.iloc[idx][\"title\"]\n",
        "    score = scores[idx]\n",
        "    res.append((movie_title, score))\n",
        "\n",
        "  return res"
      ],
      "metadata": {
        "id": "rniQdLasKTUv"
      },
      "execution_count": null,
      "outputs": []
    },
    {
      "cell_type": "code",
      "source": [
        "# test case\n",
        "user_query = \"I love thrilling action movies set in space, with a comedic twist.\"\n",
        "\n",
        "recommendations = recommend_movies(\n",
        "    user_query,\n",
        "    df_movies,\n",
        "    vectorizer,\n",
        "    tfidf_matrix,\n",
        "    top_n=5\n",
        ")\n",
        "\n",
        "for title, score in recommendations:\n",
        "    print(f\"{title}: {score:.4f}\")\n"
      ],
      "metadata": {
        "colab": {
          "base_uri": "https://localhost:8080/"
        },
        "id": "FKMrYi_xXm3-",
        "outputId": "cd33004d-3f33-46a4-b377-eb8b2ab38bd5"
      },
      "execution_count": null,
      "outputs": [
        {
          "output_type": "stream",
          "name": "stdout",
          "text": [
            "Big Hero 6: 0.1442\n",
            "Babe: Pig in the City: 0.1307\n",
            "Red Planet: 0.1207\n",
            "Son of the Mask: 0.1171\n",
            "Cinderella Man: 0.1160\n"
          ]
        }
      ]
    }
  ]
}